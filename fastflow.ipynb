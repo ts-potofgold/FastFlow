{
  "cells": [
    {
      "cell_type": "code",
      "source": [
        "from google.colab import drive\n",
        "drive.mount('/content/drive')"
      ],
      "metadata": {
        "id": "FYCZeCD21Nb2",
        "outputId": "33de1156-6536-4185-e5d8-996e33823f41",
        "colab": {
          "base_uri": "https://localhost:8080/"
        }
      },
      "execution_count": 1,
      "outputs": [
        {
          "output_type": "stream",
          "name": "stdout",
          "text": [
            "Mounted at /content/drive\n"
          ]
        }
      ]
    },
    {
      "cell_type": "code",
      "source": [
        "!pip install tarfile\n",
        "import tarfile\n",
        "import os\n",
        "import torch"
      ],
      "metadata": {
        "colab": {
          "base_uri": "https://localhost:8080/"
        },
        "id": "wuvVDEczDS3M",
        "outputId": "92b46ddb-6f93-4b27-c34b-1de6896085e6"
      },
      "execution_count": 2,
      "outputs": [
        {
          "output_type": "stream",
          "name": "stdout",
          "text": [
            "\u001b[31mERROR: Could not find a version that satisfies the requirement tarfile (from versions: none)\u001b[0m\n",
            "\u001b[31mERROR: No matching distribution found for tarfile\u001b[0m\n"
          ]
        }
      ]
    },
    {
      "cell_type": "code",
      "source": [
        "os.makedirs(\"/root/.cache/torch/hub/checkpoints\")"
      ],
      "metadata": {
        "id": "Rz9TM_m2OCFf"
      },
      "execution_count": 3,
      "outputs": []
    },
    {
      "cell_type": "code",
      "source": [
        "!wget https://dl.fbaipublicfiles.com/deit/M48_448.pth"
      ],
      "metadata": {
        "colab": {
          "base_uri": "https://localhost:8080/"
        },
        "id": "YMQ6DvD4HPkj",
        "outputId": "624aba03-bdea-4608-b9b1-72a535f5c2ef"
      },
      "execution_count": 4,
      "outputs": [
        {
          "output_type": "stream",
          "name": "stdout",
          "text": [
            "--2022-05-12 01:17:31--  https://dl.fbaipublicfiles.com/deit/M48_448.pth\n",
            "Resolving dl.fbaipublicfiles.com (dl.fbaipublicfiles.com)... 104.22.75.142, 104.22.74.142, 172.67.9.4, ...\n",
            "Connecting to dl.fbaipublicfiles.com (dl.fbaipublicfiles.com)|104.22.75.142|:443... connected.\n",
            "HTTP request sent, awaiting response... 200 OK\n",
            "Length: 1426179163 (1.3G) [application/zip]\n",
            "Saving to: ‘M48_448.pth’\n",
            "\n",
            "M48_448.pth         100%[===================>]   1.33G  37.0MB/s    in 51s     \n",
            "\n",
            "2022-05-12 01:18:22 (26.9 MB/s) - ‘M48_448.pth’ saved [1426179163/1426179163]\n",
            "\n"
          ]
        }
      ]
    },
    {
      "cell_type": "code",
      "source": [
        "!cp \"/content/M48_448.pth\" \"/root/.cache/torch/hub/checkpoints/\""
      ],
      "metadata": {
        "id": "mHB3ilHmJzKQ"
      },
      "execution_count": 5,
      "outputs": []
    },
    {
      "cell_type": "code",
      "source": [
        "!wget https://www.mydrive.ch/shares/38536/3830184030e49fe74747669442f0f282/download/420938113-1629952094/mvtec_anomaly_detection.tar.xz"
      ],
      "metadata": {
        "colab": {
          "base_uri": "https://localhost:8080/"
        },
        "id": "IhabHgy4DP0t",
        "outputId": "229824d6-8b0b-457f-a695-905389ca8f36"
      },
      "execution_count": 6,
      "outputs": [
        {
          "output_type": "stream",
          "name": "stdout",
          "text": [
            "--2022-05-12 01:18:42--  https://www.mydrive.ch/shares/38536/3830184030e49fe74747669442f0f282/download/420938113-1629952094/mvtec_anomaly_detection.tar.xz\n",
            "Resolving www.mydrive.ch (www.mydrive.ch)... 91.214.169.64\n",
            "Connecting to www.mydrive.ch (www.mydrive.ch)|91.214.169.64|:443... connected.\n",
            "HTTP request sent, awaiting response... 200 OK\n",
            "Length: 5264982680 (4.9G) [application/x-xz]\n",
            "Saving to: ‘mvtec_anomaly_detection.tar.xz’\n",
            "\n",
            "mvtec_anomaly_detec 100%[===================>]   4.90G  21.4MB/s    in 3m 50s  \n",
            "\n",
            "2022-05-12 01:22:32 (21.9 MB/s) - ‘mvtec_anomaly_detection.tar.xz’ saved [5264982680/5264982680]\n",
            "\n"
          ]
        }
      ]
    },
    {
      "cell_type": "code",
      "source": [
        "file = tarfile.open('/content/mvtec_anomaly_detection.tar.xz')\n",
        "file.extractall('/content/mvtec_anomaly')\n",
        "file.close()"
      ],
      "metadata": {
        "id": "b2_K4lCpDUww"
      },
      "execution_count": 7,
      "outputs": []
    },
    {
      "cell_type": "code",
      "source": [
        "os.chdir(\"/content\")\n",
        "!git clone https://github.com/ts-potofgold/FastFlow.git"
      ],
      "metadata": {
        "colab": {
          "base_uri": "https://localhost:8080/"
        },
        "id": "xshB1f4GwT7V",
        "outputId": "d2ed1fa7-8311-47c6-ad7f-3f6698781ace"
      },
      "execution_count": 10,
      "outputs": [
        {
          "output_type": "stream",
          "name": "stdout",
          "text": [
            "Cloning into 'FastFlow'...\n",
            "remote: Enumerating objects: 112, done.\u001b[K\n",
            "remote: Counting objects: 100% (112/112), done.\u001b[K\n",
            "remote: Compressing objects: 100% (88/88), done.\u001b[K\n",
            "remote: Total 112 (delta 57), reused 50 (delta 19), pack-reused 0\u001b[K\n",
            "Receiving objects: 100% (112/112), 31.91 KiB | 4.56 MiB/s, done.\n",
            "Resolving deltas: 100% (57/57), done.\n"
          ]
        }
      ]
    },
    {
      "cell_type": "code",
      "source": [
        "import os\n",
        "os.chdir(\"/content/FastFlow\")\n",
        "!pip install -r requirements.txt"
      ],
      "metadata": {
        "colab": {
          "base_uri": "https://localhost:8080/",
          "height": 1000
        },
        "id": "XBURKf5awWYV",
        "outputId": "40819da3-7fc0-44dc-c352-04106e2ea691"
      },
      "execution_count": 11,
      "outputs": [
        {
          "output_type": "stream",
          "name": "stdout",
          "text": [
            "Collecting git+https://github.com/VLL-HD/FrEIA.git (from -r requirements.txt (line 9))\n",
            "  Cloning https://github.com/VLL-HD/FrEIA.git to /tmp/pip-req-build-zyw520nh\n",
            "  Running command git clone -q https://github.com/VLL-HD/FrEIA.git /tmp/pip-req-build-zyw520nh\n",
            "Collecting matplotlib==3.5.1\n",
            "  Downloading matplotlib-3.5.1-cp37-cp37m-manylinux_2_5_x86_64.manylinux1_x86_64.whl (11.2 MB)\n",
            "\u001b[K     |████████████████████████████████| 11.2 MB 5.2 MB/s \n",
            "\u001b[?25hRequirement already satisfied: tqdm==4.64.0 in /usr/local/lib/python3.7/dist-packages (from -r requirements.txt (line 2)) (4.64.0)\n",
            "Requirement already satisfied: numpy==1.21.6 in /usr/local/lib/python3.7/dist-packages (from -r requirements.txt (line 3)) (1.21.6)\n",
            "Requirement already satisfied: scikit-learn==1.0.2 in /usr/local/lib/python3.7/dist-packages (from -r requirements.txt (line 4)) (1.0.2)\n",
            "Requirement already satisfied: torch==1.11.0 in /usr/local/lib/python3.7/dist-packages (from -r requirements.txt (line 5)) (1.11.0+cu113)\n",
            "Requirement already satisfied: torchvision==0.12.0 in /usr/local/lib/python3.7/dist-packages (from -r requirements.txt (line 6)) (0.12.0+cu113)\n",
            "Collecting av==9.1.1\n",
            "  Downloading av-9.1.1-cp37-cp37m-manylinux_2_17_x86_64.manylinux2014_x86_64.whl (27.2 MB)\n",
            "\u001b[K     |████████████████████████████████| 27.2 MB 91.5 MB/s \n",
            "\u001b[?25hCollecting timm==0.5.4\n",
            "  Downloading timm-0.5.4-py3-none-any.whl (431 kB)\n",
            "\u001b[K     |████████████████████████████████| 431 kB 59.2 MB/s \n",
            "\u001b[?25hCollecting scipy>=1.5\n",
            "  Downloading scipy-1.7.3-cp37-cp37m-manylinux_2_12_x86_64.manylinux2010_x86_64.whl (38.1 MB)\n",
            "\u001b[K     |████████████████████████████████| 38.1 MB 1.3 MB/s \n",
            "\u001b[?25hRequirement already satisfied: cycler>=0.10 in /usr/local/lib/python3.7/dist-packages (from matplotlib==3.5.1->-r requirements.txt (line 1)) (0.11.0)\n",
            "Requirement already satisfied: kiwisolver>=1.0.1 in /usr/local/lib/python3.7/dist-packages (from matplotlib==3.5.1->-r requirements.txt (line 1)) (1.4.2)\n",
            "Requirement already satisfied: pillow>=6.2.0 in /usr/local/lib/python3.7/dist-packages (from matplotlib==3.5.1->-r requirements.txt (line 1)) (7.1.2)\n",
            "Requirement already satisfied: python-dateutil>=2.7 in /usr/local/lib/python3.7/dist-packages (from matplotlib==3.5.1->-r requirements.txt (line 1)) (2.8.2)\n",
            "Requirement already satisfied: pyparsing>=2.2.1 in /usr/local/lib/python3.7/dist-packages (from matplotlib==3.5.1->-r requirements.txt (line 1)) (3.0.8)\n",
            "Requirement already satisfied: packaging>=20.0 in /usr/local/lib/python3.7/dist-packages (from matplotlib==3.5.1->-r requirements.txt (line 1)) (21.3)\n",
            "Collecting fonttools>=4.22.0\n",
            "  Downloading fonttools-4.33.3-py3-none-any.whl (930 kB)\n",
            "\u001b[K     |████████████████████████████████| 930 kB 48.6 MB/s \n",
            "\u001b[?25hRequirement already satisfied: joblib>=0.11 in /usr/local/lib/python3.7/dist-packages (from scikit-learn==1.0.2->-r requirements.txt (line 4)) (1.1.0)\n",
            "Requirement already satisfied: threadpoolctl>=2.0.0 in /usr/local/lib/python3.7/dist-packages (from scikit-learn==1.0.2->-r requirements.txt (line 4)) (3.1.0)\n",
            "Requirement already satisfied: typing-extensions in /usr/local/lib/python3.7/dist-packages (from torch==1.11.0->-r requirements.txt (line 5)) (4.2.0)\n",
            "Requirement already satisfied: requests in /usr/local/lib/python3.7/dist-packages (from torchvision==0.12.0->-r requirements.txt (line 6)) (2.23.0)\n",
            "Requirement already satisfied: six>=1.5 in /usr/local/lib/python3.7/dist-packages (from python-dateutil>=2.7->matplotlib==3.5.1->-r requirements.txt (line 1)) (1.15.0)\n",
            "Requirement already satisfied: chardet<4,>=3.0.2 in /usr/local/lib/python3.7/dist-packages (from requests->torchvision==0.12.0->-r requirements.txt (line 6)) (3.0.4)\n",
            "Requirement already satisfied: urllib3!=1.25.0,!=1.25.1,<1.26,>=1.21.1 in /usr/local/lib/python3.7/dist-packages (from requests->torchvision==0.12.0->-r requirements.txt (line 6)) (1.24.3)\n",
            "Requirement already satisfied: certifi>=2017.4.17 in /usr/local/lib/python3.7/dist-packages (from requests->torchvision==0.12.0->-r requirements.txt (line 6)) (2021.10.8)\n",
            "Requirement already satisfied: idna<3,>=2.5 in /usr/local/lib/python3.7/dist-packages (from requests->torchvision==0.12.0->-r requirements.txt (line 6)) (2.10)\n",
            "Building wheels for collected packages: FrEIA\n",
            "  Building wheel for FrEIA (setup.py) ... \u001b[?25l\u001b[?25hdone\n",
            "  Created wheel for FrEIA: filename=FrEIA-0.2-py3-none-any.whl size=42782 sha256=2c3b582956fbe8cd59e5c65c65b778d5886ceeeb31637d67233de02abe5d0a31\n",
            "  Stored in directory: /tmp/pip-ephem-wheel-cache-w1j804vf/wheels/ce/20/ea/82f4b732f0705014bd0b340c3375d25aa89491a98a49ec4b8f\n",
            "Successfully built FrEIA\n",
            "Installing collected packages: scipy, fonttools, timm, matplotlib, FrEIA, av\n",
            "  Attempting uninstall: scipy\n",
            "    Found existing installation: scipy 1.4.1\n",
            "    Uninstalling scipy-1.4.1:\n",
            "      Successfully uninstalled scipy-1.4.1\n",
            "  Attempting uninstall: matplotlib\n",
            "    Found existing installation: matplotlib 3.2.2\n",
            "    Uninstalling matplotlib-3.2.2:\n",
            "      Successfully uninstalled matplotlib-3.2.2\n",
            "\u001b[31mERROR: pip's dependency resolver does not currently take into account all the packages that are installed. This behaviour is the source of the following dependency conflicts.\n",
            "albumentations 0.1.12 requires imgaug<0.2.7,>=0.2.5, but you have imgaug 0.2.9 which is incompatible.\u001b[0m\n",
            "Successfully installed FrEIA-0.2 av-9.1.1 fonttools-4.33.3 matplotlib-3.5.1 scipy-1.7.3 timm-0.5.4\n"
          ]
        },
        {
          "output_type": "display_data",
          "data": {
            "application/vnd.colab-display-data+json": {
              "pip_warning": {
                "packages": [
                  "matplotlib",
                  "mpl_toolkits"
                ]
              }
            }
          },
          "metadata": {}
        }
      ]
    },
    {
      "cell_type": "code",
      "source": [
        "os.chdir(\"/content/FastFlow\")\n",
        "!python main.py"
      ],
      "metadata": {
        "colab": {
          "base_uri": "https://localhost:8080/"
        },
        "id": "Znv6FlHCwdGM",
        "outputId": "5b81c277-cf6f-4a12-d98d-eee04aeb257a"
      },
      "execution_count": 12,
      "outputs": [
        {
          "output_type": "stream",
          "name": "stdout",
          "text": [
            "category bottle\n",
            "[Warmup Epoch 1]: 100% 14/14 [00:47<00:00,  3.38s/it, loss=410, lr=0.000258]\n",
            "[Warmup Epoch 2]: 100% 14/14 [00:45<00:00,  3.28s/it, loss=370, lr=0.000499]\n",
            "[Warmup Epoch 3]: 100% 14/14 [00:46<00:00,  3.29s/it, loss=304, lr=0.000741]\n",
            "[Warmup Epoch 4]: 100% 14/14 [00:46<00:00,  3.29s/it, loss=213, lr=0.000983]\n",
            "[Train Epoch 1]: 100% 14/14 [00:46<00:00,  3.29s/it, loss=105, lr=0.001]\n",
            "[Train Epoch 2]: 100% 14/14 [00:46<00:00,  3.29s/it, loss=-2.08, lr=0.001]\n",
            "[Train Epoch 3]: 100% 14/14 [00:46<00:00,  3.29s/it, loss=-109, lr=0.001]\n",
            "[Train Epoch 4]: 100% 14/14 [00:46<00:00,  3.29s/it, loss=-217, lr=0.001]\n",
            "[Train Epoch 5]: 100% 14/14 [00:46<00:00,  3.29s/it, loss=-324, lr=0.001]\n",
            "Validation Loss: Anomaly -331.12662, Normal -331.70093\n",
            "[test]: 100% 6/6 [00:17<00:00,  2.91s/it]\n",
            "tcmalloc: large alloc 1075683328 bytes == 0x7f9fc9e26000 @  0x7fa3e9833001 0x7fa32d5cc1af 0x7fa32d622c23 0x7fa32d623a87 0x7fa32d6c5823 0x5936cc 0x548c51 0x5127f1 0x593dd7 0x548ae9 0x51566f 0x549576 0x593fce 0x548ae9 0x51566f 0x549e0e 0x593fce 0x548ae9 0x5127f1 0x549e0e 0x593fce 0x5118f8 0x593dd7 0x511e2c 0x593dd7 0x511e2c 0x593dd7 0x511e2c 0x593dd7 0x5118f8 0x549576\n",
            "Detection AUROC 0.97778, Segmentation AUROC 0.97898\n",
            "[Train Epoch 6]: 100% 14/14 [00:46<00:00,  3.29s/it, loss=-431, lr=0.001]\n",
            "/content/FastFlow/train.py:112: UserWarning: Data has no positive values, and therefore cannot be log-scaled.\n",
            "  plt.yscale(\"log\")\n",
            "[Train Epoch 7]: 100% 14/14 [00:46<00:00,  3.29s/it, loss=-537, lr=0.001]\n",
            "[Train Epoch 8]: 100% 14/14 [00:46<00:00,  3.29s/it, loss=-645, lr=0.001]\n",
            "[Train Epoch 9]: 100% 14/14 [00:46<00:00,  3.29s/it, loss=-753, lr=0.001]\n",
            "[Train Epoch 10]: 100% 14/14 [00:46<00:00,  3.29s/it, loss=-860, lr=0.001]\n",
            "Validation Loss: Anomaly -865.87549, Normal -867.17633\n",
            "[test]: 100% 6/6 [00:17<00:00,  2.88s/it]\n",
            "Detection AUROC 0.98333, Segmentation AUROC 0.97755\n"
          ]
        }
      ]
    },
    {
      "cell_type": "code",
      "source": [
        "torch.cuda.memory_summary(device=None, abbreviated=False)"
      ],
      "metadata": {
        "id": "kWkHQs-DEPbd",
        "outputId": "5e67ea3a-5abb-4250-e41a-32ebceec0781",
        "colab": {
          "base_uri": "https://localhost:8080/",
          "height": 191
        }
      },
      "execution_count": null,
      "outputs": [
        {
          "output_type": "execute_result",
          "data": {
            "text/plain": [
              "'|===========================================================================|\\n|                  PyTorch CUDA memory summary, device ID 0                 |\\n|---------------------------------------------------------------------------|\\n|            CUDA OOMs: 0            |        cudaMalloc retries: 0         |\\n|===========================================================================|\\n|        Metric         | Cur Usage  | Peak Usage | Tot Alloc  | Tot Freed  |\\n|---------------------------------------------------------------------------|\\n| Allocated memory      |       0 B  |       0 B  |       0 B  |       0 B  |\\n|       from large pool |       0 B  |       0 B  |       0 B  |       0 B  |\\n|       from small pool |       0 B  |       0 B  |       0 B  |       0 B  |\\n|---------------------------------------------------------------------------|\\n| Active memory         |       0 B  |       0 B  |       0 B  |       0 B  |\\n|       from large pool |       0 B  |       0 B  |       0 B  |       0 B  |\\n|       from small pool |       0 B  |       0 B  |       0 B  |       0 B  |\\n|---------------------------------------------------------------------------|\\n| GPU reserved memory   |       0 B  |       0 B  |       0 B  |       0 B  |\\n|       from large pool |       0 B  |       0 B  |       0 B  |       0 B  |\\n|       from small pool |       0 B  |       0 B  |       0 B  |       0 B  |\\n|---------------------------------------------------------------------------|\\n| Non-releasable memory |       0 B  |       0 B  |       0 B  |       0 B  |\\n|       from large pool |       0 B  |       0 B  |       0 B  |       0 B  |\\n|       from small pool |       0 B  |       0 B  |       0 B  |       0 B  |\\n|---------------------------------------------------------------------------|\\n| Allocations           |       0    |       0    |       0    |       0    |\\n|       from large pool |       0    |       0    |       0    |       0    |\\n|       from small pool |       0    |       0    |       0    |       0    |\\n|---------------------------------------------------------------------------|\\n| Active allocs         |       0    |       0    |       0    |       0    |\\n|       from large pool |       0    |       0    |       0    |       0    |\\n|       from small pool |       0    |       0    |       0    |       0    |\\n|---------------------------------------------------------------------------|\\n| GPU reserved segments |       0    |       0    |       0    |       0    |\\n|       from large pool |       0    |       0    |       0    |       0    |\\n|       from small pool |       0    |       0    |       0    |       0    |\\n|---------------------------------------------------------------------------|\\n| Non-releasable allocs |       0    |       0    |       0    |       0    |\\n|       from large pool |       0    |       0    |       0    |       0    |\\n|       from small pool |       0    |       0    |       0    |       0    |\\n|---------------------------------------------------------------------------|\\n| Oversize allocations  |       0    |       0    |       0    |       0    |\\n|---------------------------------------------------------------------------|\\n| Oversize GPU segments |       0    |       0    |       0    |       0    |\\n|===========================================================================|\\n'"
            ],
            "application/vnd.google.colaboratory.intrinsic+json": {
              "type": "string"
            }
          },
          "metadata": {},
          "execution_count": 12
        }
      ]
    }
  ],
  "metadata": {
    "interpreter": {
      "hash": "b5916c7899793520c3a5e28557a371c5b8295c09d31d5fb3518d517dcc1caadc"
    },
    "kernelspec": {
      "display_name": "Python 3.9.7 64-bit ('base': conda)",
      "language": "python",
      "name": "python3"
    },
    "language_info": {
      "codemirror_mode": {
        "name": "ipython",
        "version": 3
      },
      "file_extension": ".py",
      "mimetype": "text/x-python",
      "name": "python",
      "nbconvert_exporter": "python",
      "pygments_lexer": "ipython3",
      "version": "3.9.7"
    },
    "orig_nbformat": 4,
    "colab": {
      "name": "fastflow.ipynb",
      "provenance": [],
      "machine_shape": "hm"
    },
    "accelerator": "GPU"
  },
  "nbformat": 4,
  "nbformat_minor": 0
}