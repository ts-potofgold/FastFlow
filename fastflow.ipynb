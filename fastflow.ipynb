{
  "cells": [
    {
      "cell_type": "code",
      "source": [
        "!pip install tarfile\n",
        "import tarfile\n",
        "import os"
      ],
      "metadata": {
        "id": "wuvVDEczDS3M",
        "outputId": "6c265e2b-8378-427a-f2ea-132500331261",
        "colab": {
          "base_uri": "https://localhost:8080/"
        }
      },
      "execution_count": 1,
      "outputs": [
        {
          "output_type": "stream",
          "name": "stdout",
          "text": [
            "\u001b[31mERROR: Could not find a version that satisfies the requirement tarfile (from versions: none)\u001b[0m\n",
            "\u001b[31mERROR: No matching distribution found for tarfile\u001b[0m\n"
          ]
        }
      ]
    },
    {
      "cell_type": "code",
      "source": [
        "os.makedirs(\"/root/.cache/torch/hub/checkpoints\")"
      ],
      "metadata": {
        "id": "Rz9TM_m2OCFf"
      },
      "execution_count": 16,
      "outputs": []
    },
    {
      "cell_type": "code",
      "source": [
        "!wget https://dl.fbaipublicfiles.com/deit/M48_448.pth"
      ],
      "metadata": {
        "id": "YMQ6DvD4HPkj",
        "outputId": "d6537dde-989d-4ea8-e8bc-c749d05ad0ee",
        "colab": {
          "base_uri": "https://localhost:8080/"
        }
      },
      "execution_count": 3,
      "outputs": [
        {
          "output_type": "stream",
          "name": "stdout",
          "text": [
            "--2022-05-10 09:05:03--  https://dl.fbaipublicfiles.com/deit/M48_448.pth\n",
            "Resolving dl.fbaipublicfiles.com (dl.fbaipublicfiles.com)... 172.67.9.4, 104.22.74.142, 104.22.75.142, ...\n",
            "Connecting to dl.fbaipublicfiles.com (dl.fbaipublicfiles.com)|172.67.9.4|:443... connected.\n",
            "HTTP request sent, awaiting response... 200 OK\n",
            "Length: 1426179163 (1.3G) [application/zip]\n",
            "Saving to: ‘M48_448.pth’\n",
            "\n",
            "M48_448.pth         100%[===================>]   1.33G  46.5MB/s    in 31s     \n",
            "\n",
            "2022-05-10 09:05:34 (44.1 MB/s) - ‘M48_448.pth’ saved [1426179163/1426179163]\n",
            "\n"
          ]
        }
      ]
    },
    {
      "cell_type": "code",
      "source": [
        "!cp \"/content/M48_448.pth\" \"/root/.cache/torch/hub/checkpoints/\""
      ],
      "metadata": {
        "id": "mHB3ilHmJzKQ"
      },
      "execution_count": 17,
      "outputs": []
    },
    {
      "cell_type": "code",
      "source": [
        "!wget https://www.mydrive.ch/shares/38536/3830184030e49fe74747669442f0f282/download/420938113-1629952094/mvtec_anomaly_detection.tar.xz"
      ],
      "metadata": {
        "id": "IhabHgy4DP0t",
        "outputId": "c83465c0-d7db-4a7a-9d15-9498763429c4",
        "colab": {
          "base_uri": "https://localhost:8080/"
        }
      },
      "execution_count": 18,
      "outputs": [
        {
          "output_type": "stream",
          "name": "stdout",
          "text": [
            "--2022-05-10 09:13:17--  https://www.mydrive.ch/shares/38536/3830184030e49fe74747669442f0f282/download/420938113-1629952094/mvtec_anomaly_detection.tar.xz\n",
            "Resolving www.mydrive.ch (www.mydrive.ch)... 91.214.169.64\n",
            "Connecting to www.mydrive.ch (www.mydrive.ch)|91.214.169.64|:443... connected.\n",
            "HTTP request sent, awaiting response... 200 OK\n",
            "Length: 5264982680 (4.9G) [application/x-xz]\n",
            "Saving to: ‘mvtec_anomaly_detection.tar.xz’\n",
            "\n",
            "mvtec_anomaly_detec 100%[===================>]   4.90G  21.1MB/s    in 3m 54s  \n",
            "\n",
            "2022-05-10 09:17:11 (21.5 MB/s) - ‘mvtec_anomaly_detection.tar.xz’ saved [5264982680/5264982680]\n",
            "\n"
          ]
        }
      ]
    },
    {
      "cell_type": "code",
      "source": [
        "file = tarfile.open('/content/mvtec_anomaly_detection.tar.xz')\n",
        "file.extractall('/content/mvtec_anomaly')\n",
        "file.close()"
      ],
      "metadata": {
        "id": "b2_K4lCpDUww"
      },
      "execution_count": 20,
      "outputs": []
    },
    {
      "cell_type": "code",
      "source": [
        "os.chdir(\"/content\")\n",
        "!git clone https://github.com/ts-potofgold/FastFlow.git"
      ],
      "metadata": {
        "colab": {
          "base_uri": "https://localhost:8080/"
        },
        "id": "xshB1f4GwT7V",
        "outputId": "22f3647d-f698-47b3-bfa5-e8ec46e63d9e"
      },
      "execution_count": 21,
      "outputs": [
        {
          "output_type": "stream",
          "name": "stdout",
          "text": [
            "Cloning into 'FastFlow'...\n",
            "remote: Enumerating objects: 85, done.\u001b[K\n",
            "remote: Counting objects: 100% (85/85), done.\u001b[K\n",
            "remote: Compressing objects: 100% (61/61), done.\u001b[K\n",
            "remote: Total 85 (delta 40), reused 51 (delta 19), pack-reused 0\u001b[K\n",
            "Unpacking objects: 100% (85/85), done.\n"
          ]
        }
      ]
    },
    {
      "cell_type": "code",
      "source": [
        "import os\n",
        "os.chdir(\"/content/FastFlow\")\n",
        "!pip install -r requirements.txt"
      ],
      "metadata": {
        "colab": {
          "base_uri": "https://localhost:8080/",
          "height": 1000
        },
        "id": "XBURKf5awWYV",
        "outputId": "50d70bbc-6d50-461d-95ae-172cc49dbc5d"
      },
      "execution_count": 22,
      "outputs": [
        {
          "output_type": "stream",
          "name": "stdout",
          "text": [
            "Collecting git+https://github.com/VLL-HD/FrEIA.git (from -r requirements.txt (line 9))\n",
            "  Cloning https://github.com/VLL-HD/FrEIA.git to /tmp/pip-req-build-gork4j46\n",
            "  Running command git clone -q https://github.com/VLL-HD/FrEIA.git /tmp/pip-req-build-gork4j46\n",
            "Collecting matplotlib==3.5.1\n",
            "  Downloading matplotlib-3.5.1-cp37-cp37m-manylinux_2_5_x86_64.manylinux1_x86_64.whl (11.2 MB)\n",
            "\u001b[K     |████████████████████████████████| 11.2 MB 5.0 MB/s \n",
            "\u001b[?25hRequirement already satisfied: tqdm==4.64.0 in /usr/local/lib/python3.7/dist-packages (from -r requirements.txt (line 2)) (4.64.0)\n",
            "Requirement already satisfied: numpy==1.21.6 in /usr/local/lib/python3.7/dist-packages (from -r requirements.txt (line 3)) (1.21.6)\n",
            "Requirement already satisfied: scikit-learn==1.0.2 in /usr/local/lib/python3.7/dist-packages (from -r requirements.txt (line 4)) (1.0.2)\n",
            "Requirement already satisfied: torch==1.11.0 in /usr/local/lib/python3.7/dist-packages (from -r requirements.txt (line 5)) (1.11.0+cu113)\n",
            "Requirement already satisfied: torchvision==0.12.0 in /usr/local/lib/python3.7/dist-packages (from -r requirements.txt (line 6)) (0.12.0+cu113)\n",
            "Collecting av==9.1.1\n",
            "  Downloading av-9.1.1-cp37-cp37m-manylinux_2_17_x86_64.manylinux2014_x86_64.whl (27.2 MB)\n",
            "\u001b[K     |████████████████████████████████| 27.2 MB 1.2 MB/s \n",
            "\u001b[?25hCollecting timm==0.5.4\n",
            "  Downloading timm-0.5.4-py3-none-any.whl (431 kB)\n",
            "\u001b[K     |████████████████████████████████| 431 kB 88.4 MB/s \n",
            "\u001b[?25hCollecting scipy>=1.5\n",
            "  Downloading scipy-1.7.3-cp37-cp37m-manylinux_2_12_x86_64.manylinux2010_x86_64.whl (38.1 MB)\n",
            "\u001b[K     |████████████████████████████████| 38.1 MB 1.3 MB/s \n",
            "\u001b[?25hRequirement already satisfied: python-dateutil>=2.7 in /usr/local/lib/python3.7/dist-packages (from matplotlib==3.5.1->-r requirements.txt (line 1)) (2.8.2)\n",
            "Requirement already satisfied: pillow>=6.2.0 in /usr/local/lib/python3.7/dist-packages (from matplotlib==3.5.1->-r requirements.txt (line 1)) (7.1.2)\n",
            "Requirement already satisfied: kiwisolver>=1.0.1 in /usr/local/lib/python3.7/dist-packages (from matplotlib==3.5.1->-r requirements.txt (line 1)) (1.4.2)\n",
            "Requirement already satisfied: packaging>=20.0 in /usr/local/lib/python3.7/dist-packages (from matplotlib==3.5.1->-r requirements.txt (line 1)) (21.3)\n",
            "Collecting fonttools>=4.22.0\n",
            "  Downloading fonttools-4.33.3-py3-none-any.whl (930 kB)\n",
            "\u001b[K     |████████████████████████████████| 930 kB 70.7 MB/s \n",
            "\u001b[?25hRequirement already satisfied: pyparsing>=2.2.1 in /usr/local/lib/python3.7/dist-packages (from matplotlib==3.5.1->-r requirements.txt (line 1)) (3.0.8)\n",
            "Requirement already satisfied: cycler>=0.10 in /usr/local/lib/python3.7/dist-packages (from matplotlib==3.5.1->-r requirements.txt (line 1)) (0.11.0)\n",
            "Requirement already satisfied: joblib>=0.11 in /usr/local/lib/python3.7/dist-packages (from scikit-learn==1.0.2->-r requirements.txt (line 4)) (1.1.0)\n",
            "Requirement already satisfied: threadpoolctl>=2.0.0 in /usr/local/lib/python3.7/dist-packages (from scikit-learn==1.0.2->-r requirements.txt (line 4)) (3.1.0)\n",
            "Requirement already satisfied: typing-extensions in /usr/local/lib/python3.7/dist-packages (from torch==1.11.0->-r requirements.txt (line 5)) (4.2.0)\n",
            "Requirement already satisfied: requests in /usr/local/lib/python3.7/dist-packages (from torchvision==0.12.0->-r requirements.txt (line 6)) (2.23.0)\n",
            "Requirement already satisfied: six>=1.5 in /usr/local/lib/python3.7/dist-packages (from python-dateutil>=2.7->matplotlib==3.5.1->-r requirements.txt (line 1)) (1.15.0)\n",
            "Requirement already satisfied: idna<3,>=2.5 in /usr/local/lib/python3.7/dist-packages (from requests->torchvision==0.12.0->-r requirements.txt (line 6)) (2.10)\n",
            "Requirement already satisfied: chardet<4,>=3.0.2 in /usr/local/lib/python3.7/dist-packages (from requests->torchvision==0.12.0->-r requirements.txt (line 6)) (3.0.4)\n",
            "Requirement already satisfied: urllib3!=1.25.0,!=1.25.1,<1.26,>=1.21.1 in /usr/local/lib/python3.7/dist-packages (from requests->torchvision==0.12.0->-r requirements.txt (line 6)) (1.24.3)\n",
            "Requirement already satisfied: certifi>=2017.4.17 in /usr/local/lib/python3.7/dist-packages (from requests->torchvision==0.12.0->-r requirements.txt (line 6)) (2021.10.8)\n",
            "Building wheels for collected packages: FrEIA\n",
            "  Building wheel for FrEIA (setup.py) ... \u001b[?25l\u001b[?25hdone\n",
            "  Created wheel for FrEIA: filename=FrEIA-0.2-py3-none-any.whl size=42782 sha256=2584103ea1b59196dadd0794f92f2900a2db1ce75ff4e8a078f8b19d9fd1973d\n",
            "  Stored in directory: /tmp/pip-ephem-wheel-cache-09i4dxi7/wheels/ce/20/ea/82f4b732f0705014bd0b340c3375d25aa89491a98a49ec4b8f\n",
            "Successfully built FrEIA\n",
            "Installing collected packages: scipy, fonttools, timm, matplotlib, FrEIA, av\n",
            "  Attempting uninstall: scipy\n",
            "    Found existing installation: scipy 1.4.1\n",
            "    Uninstalling scipy-1.4.1:\n",
            "      Successfully uninstalled scipy-1.4.1\n",
            "  Attempting uninstall: matplotlib\n",
            "    Found existing installation: matplotlib 3.2.2\n",
            "    Uninstalling matplotlib-3.2.2:\n",
            "      Successfully uninstalled matplotlib-3.2.2\n",
            "\u001b[31mERROR: pip's dependency resolver does not currently take into account all the packages that are installed. This behaviour is the source of the following dependency conflicts.\n",
            "albumentations 0.1.12 requires imgaug<0.2.7,>=0.2.5, but you have imgaug 0.2.9 which is incompatible.\u001b[0m\n",
            "Successfully installed FrEIA-0.2 av-9.1.1 fonttools-4.33.3 matplotlib-3.5.1 scipy-1.7.3 timm-0.5.4\n"
          ]
        },
        {
          "output_type": "display_data",
          "data": {
            "application/vnd.colab-display-data+json": {
              "pip_warning": {
                "packages": [
                  "matplotlib",
                  "mpl_toolkits"
                ]
              }
            }
          },
          "metadata": {}
        }
      ]
    },
    {
      "cell_type": "code",
      "source": [
        "os.chdir(\"/content/FastFlow\")\n",
        "!python main.py"
      ],
      "metadata": {
        "colab": {
          "base_uri": "https://localhost:8080/"
        },
        "id": "Znv6FlHCwdGM",
        "outputId": "bcff974f-5305-41fb-ca1e-3d7b2b72f564"
      },
      "execution_count": null,
      "outputs": [
        {
          "output_type": "stream",
          "name": "stdout",
          "text": [
            "category bottle\n",
            "[Warmup Epoch 1]: 100% 7/7 [01:51<00:00, 15.96s/it, loss=422, lr=4.81e-5]\n",
            "[Warmup Epoch 2]: 100% 7/7 [01:53<00:00, 16.26s/it, loss=418, lr=9.64e-5]\n",
            "[Warmup Epoch 3]: 100% 7/7 [01:55<00:00, 16.53s/it, loss=412, lr=0.000145]\n",
            "[Warmup Epoch 4]: 100% 7/7 [01:56<00:00, 16.68s/it, loss=403, lr=0.000193]\n",
            "[Train Epoch 1]: 100% 7/7 [01:56<00:00, 16.68s/it, loss=392, lr=0.0002]\n",
            "[Train Epoch 2]: 100% 7/7 [01:56<00:00, 16.69s/it, loss=381, lr=0.0002]\n",
            "[Train Epoch 3]: 100% 7/7 [01:56<00:00, 16.70s/it, loss=370, lr=0.0002]\n",
            "[Train Epoch 4]:  29% 2/7 [00:35<01:29, 17.87s/it, loss=367, lr=0.0002]"
          ]
        }
      ]
    },
    {
      "cell_type": "code",
      "source": [
        ""
      ],
      "metadata": {
        "id": "ey2BmOKIRBrK"
      },
      "execution_count": null,
      "outputs": []
    }
  ],
  "metadata": {
    "interpreter": {
      "hash": "b5916c7899793520c3a5e28557a371c5b8295c09d31d5fb3518d517dcc1caadc"
    },
    "kernelspec": {
      "display_name": "Python 3.9.7 64-bit ('base': conda)",
      "language": "python",
      "name": "python3"
    },
    "language_info": {
      "codemirror_mode": {
        "name": "ipython",
        "version": 3
      },
      "file_extension": ".py",
      "mimetype": "text/x-python",
      "name": "python",
      "nbconvert_exporter": "python",
      "pygments_lexer": "ipython3",
      "version": "3.9.7"
    },
    "orig_nbformat": 4,
    "colab": {
      "name": "fastflow.ipynb",
      "provenance": [],
      "machine_shape": "hm"
    },
    "accelerator": "GPU"
  },
  "nbformat": 4,
  "nbformat_minor": 0
}